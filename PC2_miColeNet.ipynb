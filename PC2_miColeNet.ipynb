{
 "cells": [
  {
   "cell_type": "code",
   "execution_count": 88,
   "metadata": {},
   "outputs": [],
   "source": [
    "import requests  \n",
    "import pandas as pd  \n",
    "from bs4 import BeautifulSoup  \n",
    "import json\n",
    "  \n",
    "def getdata(url):  \n",
    "    r = requests.get(url)  \n",
    "    return r.text  \n",
    "  \n",
    "htmldata = getdata(\"https://www.micole.net/madrid/madrid/colegio-internacional-sek-santa-isabel\")  \n",
    "soup = BeautifulSoup(htmldata, 'html.parser')  \n",
    "data = ''\n",
    "comentario = []\n",
    "comentario_valido = []\n",
    "i = 0\n",
    "k = 0\n",
    "\n",
    "for data in soup.find_all('p'):\n",
    "    comentario.insert(i, data.get_text())\n",
    "    i = i + 1\n",
    "        \n",
    "for j in range(46,53):\n",
    "    comentario_valido.insert(k, comentario[j])\n",
    "    k = k + 1\n",
    "\n",
    "json_comentarios = {\n",
    "    'comentarios': comentario_valido\n",
    "}\n",
    "\n",
    "with open('comentarios_micolenet.json', 'w') as file:\n",
    "    json.dump(json_comentarios, file)"
   ]
  }
 ],
 "metadata": {
  "kernelspec": {
   "display_name": "Python 3 (ipykernel)",
   "language": "python",
   "name": "python3"
  },
  "language_info": {
   "codemirror_mode": {
    "name": "ipython",
    "version": 3
   },
   "file_extension": ".py",
   "mimetype": "text/x-python",
   "name": "python",
   "nbconvert_exporter": "python",
   "pygments_lexer": "ipython3",
   "version": "3.9.11"
  }
 },
 "nbformat": 4,
 "nbformat_minor": 4
}
